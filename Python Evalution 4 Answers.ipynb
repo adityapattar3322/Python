{
 "cells": [
  {
   "cell_type": "markdown",
   "id": "7f64265d-fba8-4b86-8297-604a3556e94e",
   "metadata": {},
   "source": [
    "# Q1."
   ]
  },
  {
   "cell_type": "raw",
   "id": "c8135d26-0303-468e-a4ce-a63d5bd6c8ef",
   "metadata": {},
   "source": [
    " Recently an NGO conducted a survey of 5 families having 6 members each.\n",
    " The ages of grandfather,grandmother,father,mother,elder child,young child were taken by the \n",
    " volunteers.\n",
    " Unfortunately while entering this data into the program, the values got garbled looking like this:\n",
    " First family - 70,5,12,68,40,43\n",
    " Second family - 6,10,40,40,69,71\n",
    " Third family - 68,65,10,12,40,38\n",
    " Fourth family - 65,67,37,5,8,39\n",
    " Fifth family -  70,69,36,38,10,8\n",
    " Write a python program using numpy arrays which will give\n",
    " i)values sorted within the family (youngest age to oldest)\n",
    " ii) print the ages of the youngest and oldest member of EACH family."
   ]
  },
  {
   "cell_type": "code",
   "execution_count": 2,
   "id": "dc91e03e-ac0f-4d5e-997c-f92b046e5a39",
   "metadata": {},
   "outputs": [
    {
     "name": "stdout",
     "output_type": "stream",
     "text": [
      "Family 1:\n",
      "Sorted ages (youngest to oldest): [ 5 12 40 43 68 70]\n",
      "Youngest age: 5\n",
      "Oldest age: 70\n",
      "\n",
      "Family 2:\n",
      "Sorted ages (youngest to oldest): [ 6 10 40 40 69 71]\n",
      "Youngest age: 6\n",
      "Oldest age: 71\n",
      "\n",
      "Family 3:\n",
      "Sorted ages (youngest to oldest): [10 12 38 40 65 68]\n",
      "Youngest age: 10\n",
      "Oldest age: 68\n",
      "\n",
      "Family 4:\n",
      "Sorted ages (youngest to oldest): [ 5  8 37 39 65 67]\n",
      "Youngest age: 5\n",
      "Oldest age: 67\n",
      "\n",
      "Family 5:\n",
      "Sorted ages (youngest to oldest): [ 8 10 36 38 69 70]\n",
      "Youngest age: 8\n",
      "Oldest age: 70\n",
      "\n"
     ]
    }
   ],
   "source": [
    "import numpy as np\n",
    "\n",
    "# Given data\n",
    "families = np.array([\n",
    "    [70, 5, 12, 68, 40, 43],\n",
    "    [6, 10, 40, 40, 69, 71],\n",
    "    [68, 65, 10, 12, 40, 38],\n",
    "    [65, 67, 37, 5, 8, 39],\n",
    "    [70, 69, 36, 38, 10, 8]\n",
    "])\n",
    "\n",
    "for i, family in enumerate(families):\n",
    "    sorted_family = np.sort(family)\n",
    "    youngest = sorted_family[0]\n",
    "    oldest = sorted_family[-1]\n",
    "    print(f\"Family {i+1}:\")\n",
    "    print(f\"Sorted ages (youngest to oldest): {sorted_family}\")\n",
    "    print(f\"Youngest age: {youngest}\")\n",
    "    print(f\"Oldest age: {oldest}\\n\")\n"
   ]
  },
  {
   "cell_type": "markdown",
   "id": "7ebb8c1b-9bc4-4283-9372-e74c2877d9ad",
   "metadata": {},
   "source": [
    "## Q.1 Program in OOPs Approach"
   ]
  },
  {
   "cell_type": "code",
   "execution_count": 6,
   "id": "9f33147f-7f21-44fc-8a26-ed79f2d9dafe",
   "metadata": {},
   "outputs": [
    {
     "name": "stdout",
     "output_type": "stream",
     "text": [
      "Family 1:\n",
      "Sorted ages (youngest to oldest): [ 5 12 40 43 68 70]\n",
      "Youngest age: 5\n",
      "Oldest age: 70\n",
      "\n",
      "Family 2:\n",
      "Sorted ages (youngest to oldest): [ 6 10 40 40 69 71]\n",
      "Youngest age: 6\n",
      "Oldest age: 71\n",
      "\n",
      "Family 3:\n",
      "Sorted ages (youngest to oldest): [10 12 38 40 65 68]\n",
      "Youngest age: 10\n",
      "Oldest age: 68\n",
      "\n",
      "Family 4:\n",
      "Sorted ages (youngest to oldest): [ 5  8 37 39 65 67]\n",
      "Youngest age: 5\n",
      "Oldest age: 67\n",
      "\n",
      "Family 5:\n",
      "Sorted ages (youngest to oldest): [ 8 10 36 38 69 70]\n",
      "Youngest age: 8\n",
      "Oldest age: 70\n",
      "\n"
     ]
    }
   ],
   "source": [
    "import numpy as np\n",
    "\n",
    "class Family:\n",
    "    def __init__(self, ages):\n",
    "        self.ages = np.array(ages)\n",
    "\n",
    "    def sort_ages(self):\n",
    "        return np.sort(self.ages)\n",
    "\n",
    "    def youngest(self):\n",
    "        return np.min(self.ages)\n",
    "\n",
    "    def oldest(self):\n",
    "        return np.max(self.ages)\n",
    "\n",
    "def main():\n",
    "    # Given data\n",
    "    families = [\n",
    "        Family([70, 5, 12, 68, 40, 43]),\n",
    "        Family([6, 10, 40, 40, 69, 71]),\n",
    "        Family([68, 65, 10, 12, 40, 38]),\n",
    "        Family([65, 67, 37, 5, 8, 39]),\n",
    "        Family([70, 69, 36, 38, 10, 8])\n",
    "    ]\n",
    "\n",
    "    for i, family in enumerate(families):\n",
    "        sorted_ages = family.sort_ages()\n",
    "        youngest = family.youngest()\n",
    "        oldest = family.oldest()\n",
    "        print(f\"Family {i+1}:\")\n",
    "        print(f\"Sorted ages (youngest to oldest): {sorted_ages}\")\n",
    "        print(f\"Youngest age: {youngest}\")\n",
    "        print(f\"Oldest age: {oldest}\\n\")\n",
    "\n",
    "if __name__ == \"__main__\":\n",
    "    main()\n"
   ]
  },
  {
   "cell_type": "markdown",
   "id": "47b72b72-31ff-426e-9aba-e422209b0781",
   "metadata": {},
   "source": [
    "# Q.2 "
   ]
  },
  {
   "cell_type": "raw",
   "id": "990e2822-426f-4d12-a213-a855ebe56bc1",
   "metadata": {},
   "source": [
    "In the recent IPL season, player, ABC bolwed 6 overs each in 3 matches. His bowling score in the \n",
    "first match was, 12 runs, 10 runs, 2 runs,  3 runs, 5 runs, 0 run. In the second match it was, 20 runs, 2 \n",
    "runs, 3 runs, 0 runs, 15 runs, 4 runs and in the final match it was, 10 runs, 8 runs, 3 runs, 0 runs, 0 \n",
    "runs, 9 runs. Using numpy, can you find the mean of his bowling score in each match?"
   ]
  },
  {
   "cell_type": "code",
   "execution_count": 10,
   "id": "f1f10075-0d8c-49c9-9673-3da59fe3cb64",
   "metadata": {},
   "outputs": [
    {
     "name": "stdout",
     "output_type": "stream",
     "text": [
      "Mean bowling score in the first match: 5.333333333333333\n",
      "Mean bowling score in the second match: 7.333333333333333\n",
      "Mean bowling score in the third match: 5.0\n"
     ]
    }
   ],
   "source": [
    "import numpy as np\n",
    "\n",
    "# Bowling scores for each match\n",
    "first_match = np.array([12, 10, 2, 3, 5, 0])\n",
    "second_match = np.array([20, 2, 3, 0, 15, 4])\n",
    "third_match = np.array([10, 8, 3, 0, 0, 9])\n",
    "\n",
    "# Calculating the mean score for each match\n",
    "mean_first_match = np.mean(first_match)\n",
    "mean_second_match = np.mean(second_match)\n",
    "mean_third_match = np.mean(third_match)\n",
    "\n",
    "print(f\"Mean bowling score in the first match: {mean_first_match}\")\n",
    "print(f\"Mean bowling score in the second match: {mean_second_match}\")\n",
    "print(f\"Mean bowling score in the third match: {mean_third_match}\")\n"
   ]
  },
  {
   "cell_type": "markdown",
   "id": "abba31e6-b39e-4c61-b814-efa79ba4e3db",
   "metadata": {},
   "source": [
    "## Q.2 Program in OOPs Approach"
   ]
  },
  {
   "cell_type": "code",
   "execution_count": 14,
   "id": "5df56fdb-c455-4fb8-b726-d939f74769f7",
   "metadata": {},
   "outputs": [
    {
     "name": "stdout",
     "output_type": "stream",
     "text": [
      "Mean bowling score in the first match: 5.333333333333333\n",
      "Mean bowling score in the second match: 7.333333333333333\n",
      "Mean bowling score in the third match: 5.0\n"
     ]
    }
   ],
   "source": [
    "import numpy as np\n",
    "\n",
    "class Bowler:\n",
    "    def __init__(self, scores):\n",
    "        self.scores = np.array(scores)\n",
    "    \n",
    "    def mean_score(self):\n",
    "        return np.mean(self.scores)\n",
    "\n",
    "def main():\n",
    "    # Bowling scores for each match\n",
    "    first_match = Bowler([12, 10, 2, 3, 5, 0])\n",
    "    second_match = Bowler([20, 2, 3, 0, 15, 4])\n",
    "    third_match = Bowler([10, 8, 3, 0, 0, 9])\n",
    "\n",
    "    print(f\"Mean bowling score in the first match: {first_match.mean_score()}\")\n",
    "    print(f\"Mean bowling score in the second match: {second_match.mean_score()}\")\n",
    "    print(f\"Mean bowling score in the third match: {third_match.mean_score()}\")\n",
    "\n",
    "if __name__ == \"__main__\":\n",
    "    main()\n"
   ]
  },
  {
   "cell_type": "markdown",
   "id": "7ece4965-a260-46fd-b9c3-ec1458c4d27c",
   "metadata": {},
   "source": [
    "# Q.3"
   ]
  },
  {
   "cell_type": "raw",
   "id": "13f2a519-92e5-4b95-9b34-950edc592c9c",
   "metadata": {},
   "source": [
    "The admin office of the college has taken first names of the students in a separate array and last names in another separate array. While printing the full name of each student the first name from one array should be appended to the last name from the other array. \n",
    "The appended names should be stored in a third array called, fullName. Write a program in numpy to achieve this and print the final \n",
    "array, fullName"
   ]
  },
  {
   "cell_type": "code",
   "execution_count": 21,
   "id": "14e253db-2df7-4370-8b96-a177ede5b282",
   "metadata": {},
   "outputs": [
    {
     "name": "stdout",
     "output_type": "stream",
     "text": [
      "Full names of students:\n",
      "['Ram Singh' 'Abhay Kumar' 'Murli Sharma' 'Neha Mishra' 'Monika Sherpa'\n",
      " 'Mangal Rajput' 'Bholenath Pujari' 'Sunanda Kashyap']\n"
     ]
    }
   ],
   "source": [
    "import numpy as np\n",
    "\n",
    "# Arrays of first names and last names\n",
    "first_names = [\"Ram\", \"Abhay\", \"Murli\", \"Neha\",\"Monika\",\"Mangal\",\"Bholenath\",\"Sunanda\"]\n",
    "last_names = [\"Singh\", \"Kumar\", \"Sharma\", \"Mishra\",\"Sherpa\",\"Rajput\",\"Pujari\",\"Kashyap\"]\n",
    "\n",
    "# Concatenating first names and last names\n",
    "full_names = np.char.add(first_names, ' ')\n",
    "full_names = np.char.add(full_names, last_names)\n",
    "\n",
    "print(\"Full names of students:\")\n",
    "print(full_names)\n"
   ]
  },
  {
   "cell_type": "markdown",
   "id": "597197bc-2973-4d42-9977-633e9f9b8a19",
   "metadata": {},
   "source": [
    "## Q.3 Program in OOPs Approach"
   ]
  },
  {
   "cell_type": "code",
   "execution_count": 20,
   "id": "df8d504e-63f2-42b2-89ec-47936fecd33e",
   "metadata": {},
   "outputs": [
    {
     "name": "stdout",
     "output_type": "stream",
     "text": [
      "Full names of students:\n",
      "['Ram Singh' 'Abhay Kumar' 'Murli Sharma' 'Neha Mishra' 'Monika Sherpa'\n",
      " 'Mangal Rajput' 'Bholenath Pujari' 'Sunanda Kashyap']\n"
     ]
    }
   ],
   "source": [
    "import numpy as np\n",
    "\n",
    "class Students:\n",
    "    def __init__(self, first_names, last_names):\n",
    "        self.first_names = np.array(first_names)\n",
    "        self.last_names = np.array(last_names)\n",
    "\n",
    "    def get_full_names(self):\n",
    "        full_names = np.char.add(self.first_names, ' ')\n",
    "        full_names = np.char.add(full_names, self.last_names)\n",
    "        return full_names\n",
    "\n",
    "def main():\n",
    "    # Sample data\n",
    "    first_names = [\"Ram\", \"Abhay\", \"Murli\", \"Neha\",\"Monika\",\"Mangal\",\"Bholenath\",\"Sunanda\"]\n",
    "    last_names = [\"Singh\", \"Kumar\", \"Sharma\", \"Mishra\",\"Sherpa\",\"Rajput\",\"Pujari\",\"Kashyap\"]\n",
    "\n",
    "    students = Students(first_names, last_names)\n",
    "    full_names = students.get_full_names()\n",
    "\n",
    "    print(\"Full names of students:\")\n",
    "    print(full_names)\n",
    "\n",
    "if __name__ == \"__main__\":\n",
    "    main()\n"
   ]
  },
  {
   "cell_type": "markdown",
   "id": "79826ebc-5374-4a1b-9d89-1f6946482744",
   "metadata": {},
   "source": [
    "# Q.4"
   ]
  },
  {
   "cell_type": "raw",
   "id": "d27f6277-7a1e-4b37-aaa7-5fb91d89ddbf",
   "metadata": {},
   "source": [
    "Sports cell of your college has received the names of 12 cricket players in NAME:AGE format. Write a \n",
    "program using numpy which will SPLIT the name from age and print only the list of 12 names of the \n",
    "players on the screen."
   ]
  },
  {
   "cell_type": "code",
   "execution_count": 18,
   "id": "864bffe4-d9b4-419e-a6b2-9d43b3206123",
   "metadata": {},
   "outputs": [
    {
     "name": "stdout",
     "output_type": "stream",
     "text": [
      "List of player names:\n",
      "['ABC', 'PQR', 'XYZ', 'DEF', 'DAS', 'GHF', 'JHK', 'RST', 'YUG', 'OPL', 'BNM', 'FBV']\n"
     ]
    }
   ],
   "source": [
    "import numpy as np\n",
    "\n",
    "# List of players in \"NAME:AGE\" format\n",
    "players = np.array( [\"ABC:22\",\"PQR:21\",\"XYZ:22\",\"DEF:23\",\"DAS:21\",\"GHF:22\",\"JHK:22\",\"RST:21\",\"YUG:21\",\"OPL:22\",\"BNM:23\",\"FBV:21\"])\n",
    "\n",
    "# Splitting the names from ages\n",
    "names = np.char.split(players, sep=':')\n",
    "names = [name[0] for name in names]\n",
    "\n",
    "print(\"List of player names:\")\n",
    "print(names)\n"
   ]
  },
  {
   "cell_type": "markdown",
   "id": "f1a472a6-77ec-475b-a839-56024585c121",
   "metadata": {},
   "source": [
    "## Q.4 Program in OOPs Approach"
   ]
  },
  {
   "cell_type": "code",
   "execution_count": 23,
   "id": "ec7312cf-90ff-49df-98e7-9e26042efdc4",
   "metadata": {},
   "outputs": [
    {
     "name": "stdout",
     "output_type": "stream",
     "text": [
      "List of player names:\n",
      "['ABC', 'PQR', 'XYZ', 'DEF', 'DAS', 'GHF', 'JHK', 'RST', 'YUG', 'OPL', 'BNM', 'FBV']\n"
     ]
    }
   ],
   "source": [
    "import numpy as np\n",
    "\n",
    "class Players:\n",
    "    def __init__(self, players):\n",
    "        self.players = np.array(players)\n",
    "\n",
    "    def get_names(self):\n",
    "        names = np.char.split(self.players, sep=':')\n",
    "        names = [name[0] for name in names]\n",
    "        return names\n",
    "\n",
    "def main():\n",
    "    # List of players in \"NAME:AGE\" format\n",
    "    players_list = [\"ABC:22\",\"PQR:21\",\"XYZ:22\",\"DEF:23\",\"DAS:21\",\"GHF:22\",\"JHK:22\",\"RST:21\",\"YUG:21\",\"OPL:22\",\"BNM:23\",\"FBV:21\"]\n",
    "\n",
    "    players = Players(players_list)\n",
    "    names = players.get_names()\n",
    "\n",
    "    print(\"List of player names:\")\n",
    "    print(names)\n",
    "\n",
    "if __name__ == \"__main__\":\n",
    "    main()\n"
   ]
  },
  {
   "cell_type": "markdown",
   "id": "f93d10ec-c4e7-4f61-87af-dcfacc498e1c",
   "metadata": {},
   "source": [
    "# Q.5"
   ]
  },
  {
   "cell_type": "code",
   "execution_count": null,
   "id": "b3bc4efb-58aa-44c6-b15d-dc6a03a54dee",
   "metadata": {},
   "outputs": [],
   "source": [
    " Following details of some states and their capitals are given to us: \n",
    "Maharashtra Mumbai\n",
    " Goa Panaji\n",
    " Sikkim Gangtok\n",
    " Odisha Bhubaneshwar\n",
    " Bihar Patna\n",
    " Add these to a text file titled, StateDetails.txt\n",
    " Using pandas, read this file and display the details on the console with the HEADING STATE \n",
    "CAPITAL.\n",
    " Please note that the name of the state and its capital is separated by a space."
   ]
  },
  {
   "cell_type": "code",
   "execution_count": 24,
   "id": "45eee144-fbfc-4d20-aa57-f005022baff9",
   "metadata": {},
   "outputs": [],
   "source": [
    "state_details = \"\"\"Maharashtra Mumbai\n",
    "Goa Panaji\n",
    "Sikkim Gangtok\n",
    "Odisha Bhubaneshwar\n",
    "Bihar Patna\"\"\"\n",
    "\n",
    "with open(\"StateDetails.txt\", \"w\") as file:\n",
    "    file.write(state_details)\n"
   ]
  },
  {
   "cell_type": "code",
   "execution_count": 25,
   "id": "e396c82a-a263-44c7-b22f-0d33013cb301",
   "metadata": {},
   "outputs": [
    {
     "name": "stdout",
     "output_type": "stream",
     "text": [
      "STATE CAPITAL\n",
      "         STATE       CAPITAL\n",
      "0  Maharashtra        Mumbai\n",
      "1          Goa        Panaji\n",
      "2       Sikkim       Gangtok\n",
      "3       Odisha  Bhubaneshwar\n",
      "4        Bihar         Patna\n"
     ]
    }
   ],
   "source": [
    "import pandas as pd\n",
    "\n",
    "# Read the text file\n",
    "df = pd.read_csv(\"StateDetails.txt\", sep=\" \", header=None, names=[\"STATE\", \"CAPITAL\"])\n",
    "\n",
    "# Display the details with the heading \"STATE CAPITAL\"\n",
    "print(\"STATE CAPITAL\")\n",
    "print(df)\n"
   ]
  },
  {
   "cell_type": "markdown",
   "id": "3039548a-2abf-42b4-a188-45c98947d43a",
   "metadata": {},
   "source": [
    "## Q.5 Program in OOPs Approach"
   ]
  },
  {
   "cell_type": "code",
   "execution_count": 26,
   "id": "e1d29dd9-4ecd-4f87-9e07-da48effd63df",
   "metadata": {},
   "outputs": [],
   "source": [
    "class StateDetails:\n",
    "    def __init__(self, details):\n",
    "        self.details = details\n",
    "\n",
    "    def write_to_file(self, filename):\n",
    "        with open(filename, \"w\") as file:\n",
    "            file.write(self.details)\n",
    "\n",
    "def main():\n",
    "    state_details = \"\"\"Maharashtra Mumbai\n",
    "Goa Panaji\n",
    "Sikkim Gangtok\n",
    "Odisha Bhubaneshwar\n",
    "Bihar Patna\"\"\"\n",
    "\n",
    "    state_obj = StateDetails(state_details)\n",
    "    state_obj.write_to_file(\"StateDetails.txt\")\n",
    "\n",
    "if __name__ == \"__main__\":\n",
    "    main()\n"
   ]
  },
  {
   "cell_type": "code",
   "execution_count": 27,
   "id": "b51f25bf-cb9f-47a4-8213-4145c4ad6ace",
   "metadata": {},
   "outputs": [
    {
     "name": "stdout",
     "output_type": "stream",
     "text": [
      "STATE CAPITAL\n",
      "         STATE       CAPITAL\n",
      "0  Maharashtra        Mumbai\n",
      "1          Goa        Panaji\n",
      "2       Sikkim       Gangtok\n",
      "3       Odisha  Bhubaneshwar\n",
      "4        Bihar         Patna\n"
     ]
    }
   ],
   "source": [
    "import pandas as pd\n",
    "\n",
    "class StateDetailsReader:\n",
    "    def __init__(self, filename):\n",
    "        self.filename = filename\n",
    "\n",
    "    def read_and_display(self):\n",
    "        df = pd.read_csv(self.filename, sep=\" \", header=None, names=[\"STATE\", \"CAPITAL\"])\n",
    "        print(\"STATE CAPITAL\")\n",
    "        print(df)\n",
    "\n",
    "def main():\n",
    "    state_reader = StateDetailsReader(\"StateDetails.txt\")\n",
    "    state_reader.read_and_display()\n",
    "\n",
    "if __name__ == \"__main__\":\n",
    "    main()\n"
   ]
  },
  {
   "cell_type": "markdown",
   "id": "aa78e0ad-6f66-40a2-a2ba-a4d7c93c9d9e",
   "metadata": {},
   "source": [
    "# Q.6"
   ]
  },
  {
   "cell_type": "raw",
   "id": "5b11185d-6773-4908-b6e4-9db313e0e1cc",
   "metadata": {},
   "source": [
    "Following details of some avenger and their characteristics are given to us: \n",
    "Black widow-fierce fighter\n",
    "Thor-funny\n",
    "Iron man -Commander\n",
    "Captain America - Defender\n",
    "Hulk - Logician\n",
    "Add these to a text file titled, AvengerDetails.txt\n",
    "Please note that the avenger name is separated by '-' from his/her characteristic\n",
    "Using pandas, read this file and display the details on the console with the headings, Avenger \n",
    "Characteristic."
   ]
  },
  {
   "cell_type": "code",
   "execution_count": 4,
   "id": "b37d4369-3dfd-4939-a984-1d42fe39854e",
   "metadata": {},
   "outputs": [],
   "source": [
    "avenger_details = \"\"\"Black widow-fierce fighter\n",
    "Thor-funny\n",
    "Iron man-Commander\n",
    "Captain America-Defender\n",
    "Hulk-Logician\"\"\"\n",
    "\n",
    "with open(\"AvengerDetails.txt\", \"w\") as file:\n",
    "    file.write(avenger_details)\n"
   ]
  },
  {
   "cell_type": "code",
   "execution_count": 5,
   "id": "f19ad49a-b031-4f1b-b81f-5984af88c120",
   "metadata": {},
   "outputs": [
    {
     "name": "stdout",
     "output_type": "stream",
     "text": [
      "Avenger Characteristic\n",
      "           Avenger  Characteristic\n",
      "0      Black widow  fierce fighter\n",
      "1             Thor           funny\n",
      "2         Iron man       Commander\n",
      "3  Captain America        Defender\n",
      "4             Hulk        Logician\n"
     ]
    }
   ],
   "source": [
    "import pandas as pd\n",
    "\n",
    "# Read the text file\n",
    "df = pd.read_csv(\"AvengerDetails.txt\", sep='-', header=None, names=[\"Avenger\", \"Characteristic\"])\n",
    "\n",
    "# Display the details with the heading \"Avenger Characteristic\"\n",
    "print(\"Avenger Characteristic\")\n",
    "print(df)\n"
   ]
  },
  {
   "cell_type": "markdown",
   "id": "63a06810-0dd3-427e-a286-2ac4bae32c18",
   "metadata": {},
   "source": [
    "# Q.7"
   ]
  },
  {
   "cell_type": "raw",
   "id": "d31bf33c-18aa-4607-a8a4-215e518e4180",
   "metadata": {},
   "source": [
    "You are working on data compressing application. As a part of this, you have to read from the source \n",
    "text file and eliminate the white spaces in each line. Once the line is without white spaces (compact \n",
    "format), you have to write it to another file, compact.txt\n",
    "Use regex and file handling in python to achieve this."
   ]
  },
  {
   "cell_type": "code",
   "execution_count": 6,
   "id": "7dd2cecd-840d-42b7-b30d-7847201ca179",
   "metadata": {},
   "outputs": [
    {
     "name": "stdout",
     "output_type": "stream",
     "text": [
      "File processed successfully and saved as compact.txt\n"
     ]
    }
   ],
   "source": [
    "import re\n",
    "\n",
    "def remove_whitespace(line):\n",
    "    # This function uses regex to remove all white spaces in a line\n",
    "    return re.sub(r'\\s+', '', line)\n",
    "\n",
    "def process_file(source_file, target_file):\n",
    "    with open(source_file, 'r') as infile, open(target_file, 'w') as outfile:\n",
    "        for line in infile:\n",
    "            compact_line = remove_whitespace(line)\n",
    "            outfile.write(compact_line + '\\n')\n",
    "\n",
    "source_file = 'source.txt'  # Replace with your source file path\n",
    "target_file = 'compact.txt' # Output file path\n",
    "\n",
    "process_file(source_file, target_file)\n",
    "\n",
    "print(f'File processed successfully and saved as {target_file}')\n"
   ]
  },
  {
   "cell_type": "markdown",
   "id": "1cbe2265-1a99-474d-bc6a-ffd67d015f8e",
   "metadata": {},
   "source": [
    "# Q.8"
   ]
  },
  {
   "cell_type": "code",
   "execution_count": null,
   "id": "ff7082d7-d9d2-498f-bfe3-5e5d043897a8",
   "metadata": {},
   "outputs": [],
   "source": [
    "You have got a garbled data source file. The text in this file (source.txt) consists of small and capital \n",
    "letters. You have to read this file line after line and separate the small letters from the capital letters \n",
    "using regex. Write the small letters and capital letters into another file, destination.txt. Also, print the \n",
    "total number of small letters and capital letters at the end of the program execution.  Use file handling \n",
    "for reading and writing to the corresponding file."
   ]
  },
  {
   "cell_type": "code",
   "execution_count": 7,
   "id": "e7af9c5a-6f9e-4640-85c1-d2a403f1b38e",
   "metadata": {},
   "outputs": [
    {
     "name": "stdout",
     "output_type": "stream",
     "text": [
      "Small letters: 20, Capital letters: 12\n"
     ]
    }
   ],
   "source": [
    "import re\n",
    "\n",
    "def separate_letters(line):\n",
    "    small_letters = re.findall(r'[a-z]', line)\n",
    "    capital_letters = re.findall(r'[A-Z]', line)\n",
    "    return ''.join(small_letters), ''.join(capital_letters)\n",
    "\n",
    "def process_garbled_file(source_file, target_file):\n",
    "    small_count = capital_count = 0\n",
    "    with open(source_file, 'r') as infile, open(target_file, 'w') as outfile:\n",
    "        for line in infile:\n",
    "            smalls, capitals = separate_letters(line)\n",
    "            small_count += len(smalls)\n",
    "            capital_count += len(capitals)\n",
    "            outfile.write(smalls + capitals + '\\n')\n",
    "    return small_count, capital_count\n",
    "\n",
    "source_file = 'source.txt'  # Replace with your source file path\n",
    "target_file = 'destination.txt' # Output file path\n",
    "\n",
    "small_count, capital_count = process_garbled_file(source_file, target_file)\n",
    "print(f'Small letters: {small_count}, Capital letters: {capital_count}')\n"
   ]
  },
  {
   "cell_type": "markdown",
   "id": "a4f6f75d-0154-4780-9444-8abbbd1107c6",
   "metadata": {},
   "source": [
    "# Q.9"
   ]
  },
  {
   "cell_type": "code",
   "execution_count": 5,
   "id": "632a274a-721f-4f18-9dbc-8e2090992130",
   "metadata": {},
   "outputs": [
    {
     "name": "stdout",
     "output_type": "stream",
     "text": [
      "Valid mobile numbers have been saved to MobileNumber.txt\n"
     ]
    }
   ],
   "source": [
    "import re\n",
    "\n",
    "# Function to validate mobile number\n",
    "def is_valid_mobile(number):\n",
    "    # Assuming valid mobile numbers start with 6-9 and have either 10 digits or start with '91' followed by 10 digits\n",
    "    return re.match(r'^(?:91)?[6-9]\\d{9}$', number)\n",
    "\n",
    "def extract_mobile_numbers(source_file, target_file):\n",
    "    with open(source_file, 'r') as infile, open(target_file, 'w') as outfile:\n",
    "        for line in infile:\n",
    "            numbers = re.findall(r'\\b\\d{10,12}\\b', line)\n",
    "            for number in numbers:\n",
    "                if is_valid_mobile(number):\n",
    "                    outfile.write(number + '\\n')\n",
    "\n",
    "source_file = 'Contacts.txt'  # Replace with your source file path\n",
    "target_file = 'MobileNumber.txt'  # Output file path\n",
    "\n",
    "extract_mobile_numbers(source_file, target_file)\n",
    "print(f'Valid mobile numbers have been saved to {target_file}')\n"
   ]
  },
  {
   "cell_type": "markdown",
   "id": "4d58896d-afbb-44c3-b74d-cc408f94ca34",
   "metadata": {},
   "source": [
    "# Q.10"
   ]
  },
  {
   "cell_type": "raw",
   "id": "65a04088-351b-4882-8c80-0d79136bed6c",
   "metadata": {},
   "source": [
    "During a recent guest session, attendance seems to have not been recorded properly. To cross \n",
    "check their attendance, students are told to meet the class teacher and verify their attendance status. \n",
    "The names of the students are stored in attendance.txt file. Write a python program which will take \n",
    "the name from the student and using regex and file handling to locate it in the source file. If the name \n",
    "is found, confirm the attendance of the student with suitable print message. If the name is not found, \n",
    "inform the student that he/she was absent. "
   ]
  },
  {
   "cell_type": "code",
   "execution_count": 7,
   "id": "f2709383-c553-4500-a27f-b7af340d319e",
   "metadata": {},
   "outputs": [
    {
     "name": "stdin",
     "output_type": "stream",
     "text": [
      "Enter student's name to check attendance:  ajinkya\n"
     ]
    },
    {
     "name": "stdout",
     "output_type": "stream",
     "text": [
      "ajinkya is marked present.\n"
     ]
    }
   ],
   "source": [
    "import re\n",
    "\n",
    "def check_attendance(student_name, source_file):\n",
    "    # Open the source file and read line by line\n",
    "    with open(source_file, 'r') as infile:\n",
    "        for line in infile:\n",
    "            # Use regex to search for the student's name in the line, case-insensitive\n",
    "            if re.search(rf'\\b{re.escape(student_name)}\\b', line, re.IGNORECASE):\n",
    "                return True\n",
    "    return False\n",
    "\n",
    "source_file = 'attendance.txt'  # Replace with your source file path\n",
    "student_name = input(\"Enter student's name to check attendance: \")\n",
    "\n",
    "if check_attendance(student_name, source_file):\n",
    "    print(f'{student_name} is marked present.')\n",
    "else:\n",
    "    print(f'{student_name} was absent.')\n"
   ]
  },
  {
   "cell_type": "markdown",
   "id": "882886c8-e13e-4deb-a699-0cdeb4874015",
   "metadata": {},
   "source": [
    "# Q.11"
   ]
  },
  {
   "cell_type": "raw",
   "id": "d75d0f2a-23c6-423a-b3b5-5e6fc3712e22",
   "metadata": {},
   "source": [
    "You are enrolling for a driving school. The program takes your name, address, and age. If the age is \n",
    "less than 18, the program raises, LearnerUnderAgeError. Write the program in Python to achieve this \n",
    "business requirement."
   ]
  },
  {
   "cell_type": "code",
   "execution_count": 9,
   "id": "0508d7ec-14f6-4382-befa-4b5fe44a3f4a",
   "metadata": {},
   "outputs": [
    {
     "name": "stdin",
     "output_type": "stream",
     "text": [
      "Enter your name:  Aditya\n",
      "Enter your address:  Pune\n",
      "Enter your age:  17\n"
     ]
    },
    {
     "name": "stdout",
     "output_type": "stream",
     "text": [
      "Sorry Aditya, you must be at least 18 years old to enroll in the driving school.\n"
     ]
    }
   ],
   "source": [
    "class LearnerUnderAgeError(Exception):\n",
    "    \"\"\"Custom exception for learners under the legal age\"\"\"\n",
    "    pass\n",
    "\n",
    "def enroll_for_driving_school(name, address, age):\n",
    "    if age < 18:\n",
    "        raise LearnerUnderAgeError(f\"Sorry {name}, you must be at least 18 years old to enroll in the driving school.\")\n",
    "    \n",
    "    return f\"Enrollment successful for {name} at {address}. Age: {age}.\"\n",
    "\n",
    "def main():\n",
    "    try:\n",
    "        name = input(\"Enter your name: \")\n",
    "        address = input(\"Enter your address: \")\n",
    "        age = int(input(\"Enter your age: \"))\n",
    "        \n",
    "        result = enroll_for_driving_school(name, address, age)\n",
    "        print(result)\n",
    "    \n",
    "    except LearnerUnderAgeError as e:\n",
    "        print(e)\n",
    "    except ValueError:\n",
    "        print(\"Please enter a valid age.\")\n",
    "\n",
    "if __name__ == \"__main__\":\n",
    "    main()\n"
   ]
  },
  {
   "cell_type": "markdown",
   "id": "8cb4ff63-6c6e-4f33-b876-c7e24a81bb81",
   "metadata": {},
   "source": [
    "# Q.12"
   ]
  },
  {
   "cell_type": "code",
   "execution_count": 10,
   "id": "750a1eb4-4361-4f9a-8c2a-2d8408e3f000",
   "metadata": {},
   "outputs": [
    {
     "name": "stdin",
     "output_type": "stream",
     "text": [
      "Enter the flavor of the PAID cake:  Chocolate\n"
     ]
    },
    {
     "name": "stdout",
     "output_type": "stream",
     "text": [
      "You can add up to 2 FREE cakes.\n"
     ]
    },
    {
     "name": "stdin",
     "output_type": "stream",
     "text": [
      "Enter the flavor of a FREE cake (or press Enter to finish):  ButterScotch\n",
      "Enter the flavor of a FREE cake (or press Enter to finish):  Mango\n"
     ]
    },
    {
     "name": "stdout",
     "output_type": "stream",
     "text": [
      "You can only add up to 2 FREE cakes.\n",
      "Order summary:\n",
      "PAID cake flavor: Chocolate\n",
      "FREE cake flavors: ButterScotch, Mango\n",
      "Order placed successfully!\n"
     ]
    }
   ],
   "source": [
    "# Custom exception for exceeding the freebie limit\n",
    "class FreebieLimitExceededError(Exception):\n",
    "    pass\n",
    "\n",
    "def order_cakes():\n",
    "    paid_flavor = input(\"Enter the flavor of the PAID cake: \")\n",
    "    print(\"You can add up to 2 FREE cakes.\")\n",
    "    \n",
    "    free_cakes = []\n",
    "    \n",
    "    try:\n",
    "        while True:\n",
    "            if len(free_cakes) >= 2:\n",
    "                raise FreebieLimitExceededError(\"You can only add up to 2 FREE cakes.\")\n",
    "                \n",
    "            free_flavor = input(\"Enter the flavor of a FREE cake (or press Enter to finish): \")\n",
    "            if not free_flavor:\n",
    "                break\n",
    "            free_cakes.append(free_flavor)\n",
    "            \n",
    "    except FreebieLimitExceededError as e:\n",
    "        print(e)\n",
    "    \n",
    "    print(f\"Order summary:\\nPAID cake flavor: {paid_flavor}\\nFREE cake flavors: {', '.join(free_cakes)}\")\n",
    "    print(\"Order placed successfully!\")\n",
    "\n",
    "order_cakes()\n"
   ]
  },
  {
   "cell_type": "markdown",
   "id": "c949dd77-985f-49b2-8c2e-07bf94a7bb17",
   "metadata": {},
   "source": [
    "# Q.13"
   ]
  },
  {
   "cell_type": "code",
   "execution_count": 12,
   "id": "f9e88d64-9baa-4b9e-83fb-7554e39aa7d4",
   "metadata": {},
   "outputs": [
    {
     "name": "stdin",
     "output_type": "stream",
     "text": [
      "Enter your password:  adityaadi\n"
     ]
    },
    {
     "name": "stdout",
     "output_type": "stream",
     "text": [
      "Wrong password. Attempt 1 of 3.\n"
     ]
    },
    {
     "name": "stdin",
     "output_type": "stream",
     "text": [
      "Enter your password:  aditya(adi)\n"
     ]
    },
    {
     "name": "stdout",
     "output_type": "stream",
     "text": [
      "Wrong password. Attempt 2 of 3.\n"
     ]
    },
    {
     "name": "stdin",
     "output_type": "stream",
     "text": [
      "Enter your password:  aditya(Adi)\n"
     ]
    },
    {
     "name": "stdout",
     "output_type": "stream",
     "text": [
      "Wrong password. Attempt 3 of 3.\n",
      "Maximum login attempts exceeded. Access denied.\n"
     ]
    }
   ],
   "source": [
    "# Custom exception for exceeding the maximum login attempts\n",
    "class MaximumLoginAttemptsExceededError(Exception):\n",
    "    pass\n",
    "\n",
    "def login():\n",
    "    correct_password = \"Aditya(adi)\"  # Replace with the actual correct password\n",
    "    max_attempts = 3\n",
    "    attempts = 0\n",
    "    \n",
    "    while attempts < max_attempts:\n",
    "        password = input(\"Enter your password: \")\n",
    "        if password == correct_password:\n",
    "            print(\"Login successful!\")\n",
    "            return\n",
    "        else:\n",
    "            attempts += 1\n",
    "            print(f\"Wrong password. Attempt {attempts} of {max_attempts}.\")\n",
    "    \n",
    "    # Raise custom exception after exceeding maximum attempts\n",
    "    raise MaximumLoginAttemptsExceededError(\"Maximum login attempts exceeded. Access denied.\")\n",
    "\n",
    "def main():\n",
    "    try:\n",
    "        login()\n",
    "    except MaximumLoginAttemptsExceededError as e:\n",
    "        print(e)\n",
    "\n",
    "if __name__ == \"__main__\":\n",
    "    main()\n"
   ]
  },
  {
   "cell_type": "markdown",
   "id": "f4365ea9-5d87-4c7c-9ba2-0f58ba39fe03",
   "metadata": {},
   "source": [
    "# Q.14"
   ]
  },
  {
   "cell_type": "raw",
   "id": "dfe06d29-2b5e-42f8-8fca-e12f30c7d424",
   "metadata": {},
   "source": [
    "On the newly built Samruddhi highway, the national government has implemented speed limit to keep \n",
    "the commuters safe. Your application takes the speed value from the user. If the value is beyond 120 \n",
    "kms/hr, raise, SpeedingLimitExceededError and issue a chalan to the speeding driver after taking \n",
    "his/her vehicle number."
   ]
  },
  {
   "cell_type": "code",
   "execution_count": 18,
   "id": "839c8b5a-3f14-4c52-8e08-0c7b5811a9a5",
   "metadata": {},
   "outputs": [
    {
     "name": "stdin",
     "output_type": "stream",
     "text": [
      "Enter the speed of the vehicle (in km/hr):  130\n",
      "Enter the vehicle number:  MH14EK1814\n"
     ]
    },
    {
     "name": "stdout",
     "output_type": "stream",
     "text": [
      "Speed of 130.0 km/hr exceeded the limit. Chalan issued for vehicle MH14EK1814.\n"
     ]
    }
   ],
   "source": [
    "# Custom exception for exceeding the speed limit\n",
    "class SpeedingLimitExceededError(Exception):\n",
    "    pass\n",
    "\n",
    "def check_speed():\n",
    "    try:\n",
    "        speed = float(input(\"Enter the speed of the vehicle (in km/hr): \"))\n",
    "        \n",
    "        if speed > 120:\n",
    "            vehicle_number = input(\"Enter the vehicle number: \")\n",
    "            raise SpeedingLimitExceededError(f\"Speed of {speed} km/hr exceeded the limit. Chalan issued for vehicle {vehicle_number}.\")\n",
    "        \n",
    "        print(f\"Speed of {speed} km/hr is within the limit. Drive safely!\")\n",
    "    \n",
    "    except ValueError:\n",
    "        print(\"Please enter a valid speed value.\")\n",
    "    \n",
    "    except SpeedingLimitExceededError as e:\n",
    "        print(e)\n",
    "\n",
    "def main():\n",
    "    check_speed()\n",
    "\n",
    "if __name__ == \"__main__\":\n",
    "    main()\n"
   ]
  },
  {
   "cell_type": "markdown",
   "id": "a9e34a8e-0d57-4c54-9e61-d8515ea13c65",
   "metadata": {},
   "source": [
    "# Q.15"
   ]
  },
  {
   "cell_type": "raw",
   "id": "6ec3ad45-56a0-4360-9b0e-2e646ea44b87",
   "metadata": {},
   "source": [
    "A world famous rock band is going to play in your city soon and you are designing its ticket booking \n",
    "application. Each user is allowed to book 1 to 5 tickets only. If the number of tickets booked by a \n",
    "person exceeds 5 then raise, TooManyTicketsBookedError."
   ]
  },
  {
   "cell_type": "code",
   "execution_count": 19,
   "id": "ec2a6d61-a495-4deb-8f00-6dcd8af9a302",
   "metadata": {},
   "outputs": [
    {
     "name": "stdin",
     "output_type": "stream",
     "text": [
      "Enter the number of tickets you want to book (1 to 5):  2\n"
     ]
    },
    {
     "name": "stdout",
     "output_type": "stream",
     "text": [
      "Successfully booked 2 ticket(s). Enjoy the concert!\n"
     ]
    }
   ],
   "source": [
    "# Custom exception for booking too many tickets\n",
    "class TooManyTicketsBookedError(Exception):\n",
    "    pass\n",
    "\n",
    "def book_tickets():\n",
    "    try:\n",
    "        num_tickets = int(input(\"Enter the number of tickets you want to book (1 to 5): \"))\n",
    "        \n",
    "        if num_tickets < 1 or num_tickets > 5:\n",
    "            raise TooManyTicketsBookedError(\"You can only book between 1 to 5 tickets.\")\n",
    "        \n",
    "        print(f\"Successfully booked {num_tickets} ticket(s). Enjoy the concert!\")\n",
    "    \n",
    "    except ValueError:\n",
    "        print(\"Please enter a valid number.\")\n",
    "    \n",
    "    except TooManyTicketsBookedError as e:\n",
    "        print(e)\n",
    "\n",
    "def main():\n",
    "    book_tickets()\n",
    "\n",
    "if __name__ == \"__main__\":\n",
    "    main()\n",
    "\n"
   ]
  },
  {
   "cell_type": "markdown",
   "id": "626dded6-b7f3-4f1b-acb1-974fc6339ecc",
   "metadata": {},
   "source": [
    "# Q.16"
   ]
  },
  {
   "cell_type": "code",
   "execution_count": null,
   "id": "341f9d69-6703-4988-9064-831b0140970c",
   "metadata": {},
   "outputs": [],
   "source": [
    "Traffic signalS across the city have got an upgrade. If the 2 wheelers passing by the signal are \n",
    "speeding over 80kms/hr the app captures the vehicle number and issues a chalan to the owner after \n",
    "raising OverSpeedingError. Write a python program to achieve this"
   ]
  },
  {
   "cell_type": "code",
   "execution_count": 20,
   "id": "dd744a99-fc97-46b3-9a2f-4e762e9910ad",
   "metadata": {},
   "outputs": [
    {
     "name": "stdin",
     "output_type": "stream",
     "text": [
      "Enter the speed of the vehicle (in km/hr):  90\n",
      "Enter the vehicle number:  MH12LA0997\n"
     ]
    },
    {
     "name": "stdout",
     "output_type": "stream",
     "text": [
      "Speed of 90.0 km/hr exceeds the limit. Chalan issued for vehicle MH12LA0997.\n"
     ]
    }
   ],
   "source": [
    "# Custom exception for over speeding\n",
    "class OverSpeedingError(Exception):\n",
    "    pass\n",
    "\n",
    "def check_speed():\n",
    "    try:\n",
    "        speed = float(input(\"Enter the speed of the vehicle (in km/hr): \"))\n",
    "        \n",
    "        if speed > 80:\n",
    "            vehicle_number = input(\"Enter the vehicle number: \")\n",
    "            raise OverSpeedingError(f\"Speed of {speed} km/hr exceeds the limit. Chalan issued for vehicle {vehicle_number}.\")\n",
    "        \n",
    "        print(f\"Speed of {speed} km/hr is within the limit. Safe driving!\")\n",
    "    \n",
    "    except ValueError:\n",
    "        print(\"Please enter a valid speed value.\")\n",
    "    \n",
    "    except OverSpeedingError as e:\n",
    "        print(e)\n",
    "\n",
    "def main():\n",
    "    check_speed()\n",
    "\n",
    "if __name__ == \"__main__\":\n",
    "    main()\n"
   ]
  },
  {
   "cell_type": "code",
   "execution_count": null,
   "id": "d852be8c-8eb6-4feb-bdff-327818b75570",
   "metadata": {},
   "outputs": [],
   "source": []
  }
 ],
 "metadata": {
  "kernelspec": {
   "display_name": "Python 3 (ipykernel)",
   "language": "python",
   "name": "python3"
  },
  "language_info": {
   "codemirror_mode": {
    "name": "ipython",
    "version": 3
   },
   "file_extension": ".py",
   "mimetype": "text/x-python",
   "name": "python",
   "nbconvert_exporter": "python",
   "pygments_lexer": "ipython3",
   "version": "3.12.4"
  }
 },
 "nbformat": 4,
 "nbformat_minor": 5
}
